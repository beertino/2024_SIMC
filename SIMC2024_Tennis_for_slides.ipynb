{
 "cells": [
  {
   "cell_type": "markdown",
   "metadata": {
    "id": "fdSWxnw6NhlL",
    "slideshow": {
     "slide_type": "slide"
    }
   },
   "source": [
    "<script>\n",
    "    console.log(\"Hello. You'll see this printed in your browser's DevTools / Console. Feel free to delete this line.\");\n",
    "    document.querySelector('head').innerHTML += '<style>.slides { zoom: 1.1 !important; }</style>';\n",
    "</script>\n",
    "\n",
    "# Using Python for Mathematical Modelling: An Application\n",
    "\n",
    "[![Open In Colab](https://colab.research.google.com/assets/colab-badge.svg)](https://colab.research.google.com/github/beertino/2024_SIMC/blob/main/SIMC2024_Tennis.ipynb)\n",
    "\n",
    "<p align='left'> Link to files: https://for.edu.sg/simc2024tennis </p>\n",
    "\n",
    "<p align='right'>BEERTINO ROMEROW WOE</p>\n",
    "\n",
    "<p align='right'>NATIONAL JUNIOR COLLEGE</p>"
   ]
  },
  {
   "cell_type": "markdown",
   "metadata": {
    "slideshow": {
     "slide_type": "slide"
    }
   },
   "source": [
    "# QR Code to the Notebook\n",
    "\n",
    "<center>\n",
    "\n",
    "<img src=\"./img/qrcode_github.com.png\" width=\"500\" align=\"center\">\n",
    "\n",
    "<p align='center'> https://for.edu.sg/simc2024tennis </p>\n",
    "\n",
    "</center>\n",
    "\n"
   ]
  },
  {
   "cell_type": "markdown",
   "metadata": {
    "id": "gf1eCy2-Kj1Q",
    "slideshow": {
     "slide_type": "slide"
    }
   },
   "source": [
    "# 0. Singapore Mathematics Framework\n",
    "\n",
    "Singapore Mathematics Framework is a feature of Singapore mathematics curriculum which has a central focus of using mathematics to solve problems. It sets the direction for and provides guidance in the teaching, learning and assessment of mathematics from primary level to pre-universities."
   ]
  },
  {
   "cell_type": "markdown",
   "metadata": {
    "slideshow": {
     "slide_type": "subslide"
    }
   },
   "source": [
    "<center>\n",
    "\n",
    "<figure>\n",
    "  <img src=\"./img/singapore_math_framework.png\" width=\"800\" align=\"center\">\n",
    "  <figcaption>Fig 0.0 Singapore Mathematics Framework</figcaption>\n",
    "</figure>    \n",
    "\n",
    "</center>"
   ]
  },
  {
   "cell_type": "markdown",
   "metadata": {
    "slideshow": {
     "slide_type": "notes"
    }
   },
   "source": [
    "The framework stresses conceptual understanding, skills proficiency and mathematical processes, and gives due emphasis to  attitudes and metacognition.\n",
    "\n",
    "In particular, under mathematical processes, we find the process skills of applications and modelling which allow students to connect mathematics that they have learnt to the real world."
   ]
  },
  {
   "cell_type": "markdown",
   "metadata": {
    "slideshow": {
     "slide_type": "subslide"
    }
   },
   "source": [
    "## 0.1 Mathematical Modelling\n",
    "Mathematical modelling is the process of formulating and improving a mathematical model to represent and solve real-world problems. A mathematical model is a mathematical representation or idealisation of a real-world situation. It can be a complicated as a system of equations or as simple as a geometrical figure. It shares characteristics of the real-world situation that it seeks to represent."
   ]
  },
  {
   "cell_type": "markdown",
   "metadata": {
    "slideshow": {
     "slide_type": "subslide"
    }
   },
   "source": [
    "<center>\n",
    "\n",
    "<figure>\n",
    "  <img src=\"./img/math_modelling_process.png\" width=\"450\" align=\"center\">\n",
    "  <figcaption>Fig 0.1. Math Modelling process</figcaption>\n",
    "</figure>    \n",
    "\n",
    "</center>"
   ]
  },
  {
   "cell_type": "markdown",
   "metadata": {
    "id": "iG9JSP6YIHXU",
    "slideshow": {
     "slide_type": "slide"
    }
   },
   "source": [
    "# 1. Real World Problem: The Deuce Problem\n",
    "\n",
    "A tennis game consists of a sequence of points played with the same player serving. A game is won by the first side to win at least four points and have a margin of two points or more over their opponent.\n",
    "\n",
    "When each player has won three points, the score is called as \"deuce\". From that point on in the game, whenever the score is tied, it is described as \"deuce\" regardless of how many points have been played."
   ]
  },
  {
   "cell_type": "markdown",
   "metadata": {
    "slideshow": {
     "slide_type": "subslide"
    }
   },
   "source": [
    "In standard play, scoring beyond a \"deuce\" score, in which the players have scored three points each, requires that one player must get two points ahead in order to win the game. This type of tennis scoring is known as \"advantage scoring\" (or \"ads\"). The side that wins the next point after deuce is said to have the advantage. If they lose the next point, the score is again deuce, since the score is tied. If the side with the advantage wins the next point, that side has won the game, since they have a lead of two points. When the server is the player with the advantage, the score may be called as \"advantage in\"."
   ]
  },
  {
   "cell_type": "markdown",
   "metadata": {
    "slideshow": {
     "slide_type": "subslide"
    }
   },
   "source": [
    "> **Problem:**\n",
    ">\n",
    "> If Novak Djokovic (ATP Rank 1) plays Jannik Sinner (ATP Rank 2) in a game starting at a deuce, who will win the game?\n",
    "\n",
    "<center>\n",
    "\n",
    "<figure>\n",
    "  <img src=\"./img/sinner_vs_djokovic.png\" width=\"500\" align=\"center\">\n",
    "  <figcaption>Fig 1.1 Jannik Sinner vs Novak Djokovic</figcaption>\n",
    "</figure>    \n",
    "\n",
    "</center>"
   ]
  },
  {
   "cell_type": "markdown",
   "metadata": {
    "id": "MToAMB1iZbfN",
    "slideshow": {
     "slide_type": "subslide"
    }
   },
   "source": [
    "## 1.1 Analyzing the Problem\n",
    "We can restate the description of winning a game from a deuce situation in the **Structured English** format.\n",
    "\n",
    "```\n",
    "00 DJOKOVIC WINS GAME FROM DEUCE\n",
    "01 IF DJOKOVIC beats SINNER THEN      #FIRST POINT WON BY DJOKOVIC\n",
    "02    IF DJOKOVIC beats SINNER THEN   #TWO CONSECUTIVE WIN BY DJOKOVIC\n",
    "03      DJOKOVIC wins\n",
    "04    ELSE                            #DJOKOVIC LOSES SECOND POINT\n",
    "05      restarts from deuce\n",
    "06    ENDIF\n",
    "07 ELSE                               #DJOKOVIC LOSES FIRST POINT\n",
    "08    IF DJOKOVIC beats SINNER THEN   #DJOKOVIC WINS SECOND POINT\n",
    "09      restarts from deuce\n",
    "10    ELSE                            #TWO CONSECUTIVE LOSSES BY DJOKOVIC\n",
    "11      DJOKOVIC loses\n",
    "12 ENDIF\n",
    "```\n",
    "\n",
    "The objective is to **predict the winner** between Djokovic and Sinner."
   ]
  },
  {
   "cell_type": "markdown",
   "metadata": {
    "id": "oKp1bsJDfq6w",
    "slideshow": {
     "slide_type": "subslide"
    }
   },
   "source": [
    "## 1.2 Using Diagram for Analysis\n",
    "\n",
    "<center>\n",
    "\n",
    "<figure>\n",
    "  <img src=\"./img/tree_diagram.drawio.png\" width=\"500\" align=\"center\">\n",
    "  <figcaption>Fig 1.2. State Dragram for the Deuce Situation</figcaption>\n",
    "</figure>    \n",
    "\n",
    "</center>"
   ]
  },
  {
   "cell_type": "markdown",
   "metadata": {
    "id": "84NNx9L63rER",
    "slideshow": {
     "slide_type": "slide"
    }
   },
   "source": [
    "# 2. A Naive Solution"
   ]
  },
  {
   "cell_type": "markdown",
   "metadata": {
    "id": "UixYivKy0xtD",
    "slideshow": {
     "slide_type": "subslide"
    }
   },
   "source": [
    "## 2.1 Making Assumptions\n",
    "- It's too complicated. Let's just toss a coin.\n",
    "- If heads, Djokovic wins the game. Otherwise, Sinner wins."
   ]
  },
  {
   "cell_type": "markdown",
   "metadata": {
    "id": "76MNj7m82Cy7",
    "slideshow": {
     "slide_type": "subslide"
    }
   },
   "source": [
    "## 2.2 Implement the Computer Model"
   ]
  },
  {
   "cell_type": "code",
   "execution_count": 6,
   "metadata": {
    "id": "Cs64bpoh2IB4",
    "slideshow": {
     "slide_type": "fragment"
    }
   },
   "outputs": [],
   "source": [
    "def coin_toss():\n",
    "  import random  # Import the random module to use its randint function.\n",
    "  # Let 0 represent tails and 1 represent heads.\n",
    "  return random.randint(0,1)  # Return a random integer between 0 and 1.\n",
    "\n",
    "def djokovic_wins_the_game():\n",
    "  coin = coin_toss()  # Call the coin_toss function and store the result in 'coin'.\n",
    "  if coin == 1:  # If the result of the coin toss is 1 (heads).\n",
    "    return True  # Return True indicating Djokovic wins the game.\n",
    "  else:\n",
    "    return False  # Return False indicating Djokovic loses the game."
   ]
  },
  {
   "cell_type": "markdown",
   "metadata": {
    "id": "NjK81XDA351S",
    "slideshow": {
     "slide_type": "subslide"
    }
   },
   "source": [
    "## 2.3 Model Verification I\n",
    "- Model grossly oversimplify things. Result is dependent on a single toss.\n",
    "- Possible modification. What if each individual point is determined by an individual toss?\n",
    "- Go back to 2.1 and continue with 2.2\n"
   ]
  },
  {
   "cell_type": "markdown",
   "metadata": {
    "slideshow": {
     "slide_type": "fragment"
    }
   },
   "source": [
    "```\n",
    "00 DJOKOVIC WINS GAME FROM DEUCE\n",
    "01 IF DJOKOVIC beats SINNER THEN      #FIRST POINT WON BY DJOKOVIC\n",
    "02    IF DJOKOVIC beats SINNER THEN   #TWO CONSECUTIVE WIN BY DJOKOVIC\n",
    "03      DJOKOVIC wins\n",
    "04    ELSE                            #DJOKOVIC LOSES SECOND POINT\n",
    "05      restarts from deuce\n",
    "06    ENDIF\n",
    "07 ELSE                               #DJOKOVIC LOSES FIRST POINT\n",
    "08    IF DJOKOVIC beats SINNER THEN   #DJOKOVIC WINS SECOND POINT\n",
    "09      restarts from deuce\n",
    "10    ELSE                            #TWO CONSECUTIVE LOSSES BY DJOKOVIC\n",
    "11      DJOKOVIC loses\n",
    "12 ENDIF\n",
    "```"
   ]
  },
  {
   "cell_type": "code",
   "execution_count": 7,
   "metadata": {
    "slideshow": {
     "slide_type": "fragment"
    }
   },
   "outputs": [],
   "source": [
    "def djokovic_wins_a_point(): #This is basically a renaming of the previous function\n",
    "  coin = coin_toss()  # Call the coin_toss function and store the result in 'coin'.\n",
    "  if coin == 1:  # If the result of the coin toss is 1 (heads).\n",
    "    return True  # Return True, indicating Djokovic wins the point.\n",
    "  else:\n",
    "    return False  # Return False, indicating Djokovic loses the point."
   ]
  },
  {
   "cell_type": "markdown",
   "metadata": {
    "slideshow": {
     "slide_type": "subslide"
    }
   },
   "source": [
    "```\n",
    "00 DJOKOVIC WINS GAME FROM DEUCE\n",
    "01 IF DJOKOVIC beats SINNER THEN      #FIRST POINT WON BY DJOKOVIC\n",
    "02    IF DJOKOVIC beats SINNER THEN   #TWO CONSECUTIVE WIN BY DJOKOVIC\n",
    "03      DJOKOVIC wins\n",
    "04    ELSE                            #DJOKOVIC LOSES SECOND POINT\n",
    "05      restarts from deuce\n",
    "06    ENDIF\n",
    "07 ELSE                               #DJOKOVIC LOSES FIRST POINT\n",
    "08    IF DJOKOVIC beats SINNER THEN   #DJOKOVIC WINS SECOND POINT\n",
    "09      restarts from deuce\n",
    "10    ELSE                            #TWO CONSECUTIVE LOSSES BY DJOKOVIC\n",
    "11      DJOKOVIC loses\n",
    "12 ENDIF\n",
    "```"
   ]
  },
  {
   "cell_type": "code",
   "execution_count": 8,
   "metadata": {
    "slideshow": {
     "slide_type": "fragment"
    }
   },
   "outputs": [],
   "source": [
    "# Implement the code based on the structured English.\n",
    "def djokovic_wins_the_game():\n",
    "  if djokovic_wins_a_point():  # First condition to check if Djokovic wins a point.\n",
    "    if djokovic_wins_a_point():  # Check again if Djokovic wins another point.\n",
    "      return True  # If he wins two consecutive points, he wins the game.\n",
    "    else:\n",
    "      return djokovic_wins_the_game()  # If he wins the first but loses the second point, returns to deuce\n",
    "  else:\n",
    "    if djokovic_wins_a_point():  # If he loses the first point but wins the second.\n",
    "      return djokovic_wins_the_game()  # Reevaluate the game.\n",
    "    else:\n",
    "      return False  # If he loses two consecutive points, he loses the game."
   ]
  },
  {
   "cell_type": "markdown",
   "metadata": {
    "id": "oNOXDpE-hYEu",
    "slideshow": {
     "slide_type": "subslide"
    }
   },
   "source": [
    "## 2.4 Model Verification II\n",
    "- The coin toss is (assumed) going to give 50% head and 50% tails on average.\n",
    "- Since tennis players have differing ability, perhaps the outcome of a point shouldn't be that balanced.\n",
    "- Possible modification. What if the outcome of the point has some imbalance in the number of wins or losses obtained on average. In other words, what if the probability of winning a point by Djokovic is the value $p$ where $0 \\leq p \\leq 1$?\n",
    "- Using Probability Model\n",
    "\n",
    "Go back to 2.1 and continue with 2.2"
   ]
  },
  {
   "cell_type": "code",
   "execution_count": 9,
   "metadata": {
    "id": "OqSkDN1SiPOB",
    "slideshow": {
     "slide_type": "fragment"
    }
   },
   "outputs": [],
   "source": [
    "def djokovic_wins_a_point(p):\n",
    "  import random  # Import the random module to access the random number generator.\n",
    "  if random.random() < p:\n",
    "    # random.random() generates a float between 0.0 and 1.0. If this value is less than 'p',\n",
    "    # it indicates a successful outcome based on the probability 'p'.\n",
    "    return True  # Return True if Djokovic wins the point.\n",
    "  else:\n",
    "    return False  # Return False if Djokovic loses the point."
   ]
  },
  {
   "cell_type": "code",
   "execution_count": 10,
   "metadata": {
    "slideshow": {
     "slide_type": "subslide"
    }
   },
   "outputs": [],
   "source": [
    "# Implement the code based on the structured English.\n",
    "def djokovic_wins_the_game(p):\n",
    "  if djokovic_wins_a_point(p):  # Check if Djokovic wins a point.\n",
    "    if djokovic_wins_a_point(p):  # Check again if Djokovic wins another point immediately after.\n",
    "      return True  # If both checks are true, Djokovic wins the game.\n",
    "    else:\n",
    "      # If the first check is true but the second check is false, recurse to reevaluate the game outcome.\n",
    "      return djokovic_wins_the_game(p)\n",
    "  else:\n",
    "    # If the first check is false, check again if Djokovic can win the next point.\n",
    "    if djokovic_wins_a_point(p):\n",
    "      # If the second point is won after losing the first, recurse to reevaluate the game outcome.\n",
    "      return djokovic_wins_the_game(p)\n",
    "    else:\n",
    "      # If both the first and second checks are false, Djokovic loses the game.\n",
    "      return False"
   ]
  },
  {
   "cell_type": "markdown",
   "metadata": {
    "id": "Icj9uILyqb03",
    "slideshow": {
     "slide_type": "subslide"
    }
   },
   "source": [
    "## 2.5 Model Validation\n",
    "- Get some data\n",
    "- According to [Tennis Statistics](https://www.ultimatetennisstatistics.com/headToHead?playerId1=4920&playerId2=50810&tab=matches&outcome=played#matchStats-182171Return), Djokovic played Sinner for the first time in the tour in 2021, where Djokovic won $72$ out of $130$ points. So, we assume  $p=\\frac{72}{130}=0.554$ as an approximation of probability that he won a point\n",
    "- Simulate 1000 deuce games to find approximation of the probability of Djokovic winning the game\n",
    "- Now, we have probably a better prediction"
   ]
  },
  {
   "cell_type": "code",
   "execution_count": 11,
   "metadata": {
    "colab": {
     "base_uri": "https://localhost:8080/"
    },
    "id": "Zjv5S0IcsxAb",
    "outputId": "5b53b996-6282-4914-aa8a-507cdb3b51b1",
    "slideshow": {
     "slide_type": "fragment"
    }
   },
   "outputs": [
    {
     "name": "stdout",
     "output_type": "stream",
     "text": [
      "0.60669\n"
     ]
    }
   ],
   "source": [
    "# Simulation to approximate the probability\n",
    "win_count = 0  # Initialize a counter to track the number of games Djokovic wins.\n",
    "no_of_games = 100000  # Set the total number of games to simulate.\n",
    "\n",
    "for _ in range(no_of_games):  # Loop through a range equal to the number of games.\n",
    "  if djokovic_wins_the_game(0.554):  # Call the function to determine if Djokovic wins a game.\n",
    "    win_count += 1  # Increment the win counter if Djokovic wins the game.\n",
    "\n",
    "print(win_count/no_of_games)  # Calculate and print the proportion of games Djokovic wins.\n"
   ]
  },
  {
   "cell_type": "markdown",
   "metadata": {
    "id": "TvNEIhUHvB1j",
    "slideshow": {
     "slide_type": "subslide"
    }
   },
   "source": [
    "## 2.6 Caveat\n",
    "- $0.554$ is from a single match and need not be representative from points in a deuce game"
   ]
  },
  {
   "cell_type": "markdown",
   "metadata": {
    "id": "kboFtBsiv3kg",
    "slideshow": {
     "slide_type": "slide"
    }
   },
   "source": [
    "# 3. Return to the Diagram\n",
    "\n",
    "## 3.1 Probability Tree Diagram\n",
    "- So, $p$ is the probability of Djokovic winning a point\n",
    "\n",
    "<center>\n",
    "\n",
    "<figure>\n",
    "  <img src=\"./img/probability_tree.drawio.png\" width=\"375\" align=\"center\">\n",
    "  <figcaption>Fig 3.1 Probability Tree Dragram for the Deuce Situation</figcaption>\n",
    "</figure>    \n",
    "\n",
    "</center>\n"
   ]
  },
  {
   "cell_type": "markdown",
   "metadata": {
    "id": "ohIh8ZsJweVj",
    "slideshow": {
     "slide_type": "subslide"
    }
   },
   "source": [
    "## 3.2 The Recursive Equation\n",
    "\n",
    "Consider the following events\n",
    "- $D$ : Djokovic wins the game from deuce\n",
    "- $W_i$ : Djokovic wins the $i$ th point from deuce\n",
    "- $L_i$ : Djokovic loses the $i$ th point from deuce\n",
    "\n",
    "Based on the probability tree, we have the following equation\n",
    "\n",
    "$$\\begin{align}\n",
    "P(D)\t&=P\\left(W_{1}W_{2}\\right)+P\\left(W_{1}L_{2}D\\right)+P\\left(L_{1}W_{2}D\\right) \\\\\n",
    "P\\left(D\\right)\t&=p\\cdot p+p\\left(1-p\\right)P\\left(D\\right)+\\left(1-p\\right)pP\\left(D\\right)\\\\\n",
    "P\\left(D\\right)\\left(1-2p\\left(1-p\\right)\\right)\t&=p^{2}\\\\\n",
    "P\\left(D\\right)\t&=\\frac{p^{2}}{1-2p\\left(1-p\\right)}\n",
    "\\end{align}\n",
    "$$"
   ]
  },
  {
   "cell_type": "code",
   "execution_count": 12,
   "metadata": {
    "colab": {
     "base_uri": "https://localhost:8080/"
    },
    "id": "WwONPvFywdlC",
    "outputId": "e5ac1deb-fc15-4fad-dc6b-c38421062d45",
    "slideshow": {
     "slide_type": "subslide"
    }
   },
   "outputs": [
    {
     "name": "stdout",
     "output_type": "stream",
     "text": [
      "0.6067548118742982\n"
     ]
    }
   ],
   "source": [
    "# Probability of Djokovic winning from deuce is a function of p\n",
    "def prob_winning(p):\n",
    "  return p**2/(1-2*p*(1-p))\n",
    "p = 0.554\n",
    "print(prob_winning(p))"
   ]
  },
  {
   "cell_type": "markdown",
   "metadata": {
    "id": "Gnz5USDt9OYB",
    "slideshow": {
     "slide_type": "subslide"
    }
   },
   "source": [
    "Actually, we don't have to solve the equation obtained manually. Python can solve it for us 😏"
   ]
  },
  {
   "cell_type": "code",
   "execution_count": 13,
   "metadata": {
    "colab": {
     "base_uri": "https://localhost:8080/",
     "height": 58
    },
    "id": "5d0S-_O95PQU",
    "outputId": "c631e0e4-5b2a-457f-c6ca-91aa2c505ffd",
    "slideshow": {
     "slide_type": "fragment"
    }
   },
   "outputs": [
    {
     "data": {
      "image/png": "[encoded data removed]",
      "text/latex": [
       "$\\displaystyle \\left[ \\left\\{ p_{D} : \\frac{p^{2}}{2 p^{2} - 2 p + 1}\\right\\}\\right]$"
      ],
      "text/plain": [
       "⎡⎧            2      ⎫⎤\n",
       "⎢⎪           p       ⎪⎥\n",
       "⎢⎨p_D: ──────────────⎬⎥\n",
       "⎢⎪        2          ⎪⎥\n",
       "⎣⎩     2⋅p  - 2⋅p + 1⎭⎦"
      ]
     },
     "metadata": {},
     "output_type": "display_data"
    }
   ],
   "source": [
    "from sympy import *\n",
    "\n",
    "p, p_D = symbols('p,p_D')\n",
    "\n",
    "init_printing()\n",
    "\n",
    "display(solve(Eq(p_D,p**2+p*(1-p)*p_D+(1-p)*p*p_D)))"
   ]
  },
  {
   "cell_type": "markdown",
   "metadata": {
    "id": "pjEeHJk09ixt",
    "slideshow": {
     "slide_type": "subslide"
    }
   },
   "source": [
    "## 3.3 Probability of Djokovic Winning\n",
    "- We plot the graph if the function obtained above\n"
   ]
  },
  {
   "cell_type": "code",
   "execution_count": null,
   "metadata": {
    "colab": {
     "base_uri": "https://localhost:8080/",
     "height": 484
    },
    "id": "w3I24Tva7DSh",
    "outputId": "b4f62ded-fe1f-452c-ac7d-aad972779171",
    "slideshow": {
     "slide_type": "subslide"
    }
   },
   "outputs": [],
   "source": [
    "# plotting f(p) = p**2/(1-2*p*(1-p)\n",
    "from sympy import symbols\n",
    "from sympy.plotting import plot\n",
    "\n",
    "p = symbols('p')\n",
    "p1 = plot(p**2/(1-2*p*(1-p)), show=False, xlim = (0,1), ylim = (0,1))\n",
    "p2 = plot(p, show=False, xlim = (0,1))\n",
    "\n",
    "p1.extend(p2)\n",
    "p1.show()"
   ]
  },
  {
   "cell_type": "markdown",
   "metadata": {
    "slideshow": {
     "slide_type": "subslide"
    }
   },
   "source": [
    "<center>\n",
    "\n",
    "<figure>\n",
    "  <img src=\"./img/output.png\" width=\"500\" align=\"center\">\n",
    "  <figcaption>Fig 3.2 graph of $y=f(p)$ and $y=p$</figcaption>\n",
    "</figure>    \n",
    "\n",
    "</center>"
   ]
  },
  {
   "cell_type": "markdown",
   "metadata": {
    "id": "9cdm0cRt-HIZ",
    "slideshow": {
     "slide_type": "subslide"
    }
   },
   "source": [
    "- Observe that\n",
    "  - graph has an inflection point at $p=0.5$\n",
    "  - graph is concave upwards on $(0,0.5)$\n",
    "  - graph is convave downwards on $(0.5,1)$\n",
    "\n",
    "This implies that the player that have the higher probability of winning a point will have an advantage in winning the game from deuce."
   ]
  },
  {
   "cell_type": "markdown",
   "metadata": {
    "id": "DtA1e1r38aqJ",
    "slideshow": {
     "slide_type": "subslide"
    }
   },
   "source": [
    "## 3.4 OK, I'm actually cheating\n",
    "- the equation below holds because I'm assuming that winnning a prior point has no effect on the probability of the winning following point, i.e the events are independent 😆\n",
    "\n",
    "$$\\begin{align}\n",
    "P\\left(D\\right)\t&=p^{2}+p\\left(1-p\\right)P\\left(D\\right)+\\left(1-p\\right)pP\\left(D\\right)\\\\\n",
    "\\end{align}\n",
    "$$"
   ]
  },
  {
   "cell_type": "markdown",
   "metadata": {
    "id": "9eU2W0tZxdNe",
    "slideshow": {
     "slide_type": "slide"
    }
   },
   "source": [
    "# 4. Improving the Model\n",
    "- what if we want to consider the effect of winning/losing points towards the subsequent probabilities? Let us look at the probability tree again.\n",
    "\n",
    "<center>\n",
    "\n",
    "<figure>\n",
    "  <img src=\"./img/probability_tree_conditional.drawio.png\" width=\"375\" align=\"center\">\n",
    "  <figcaption>Fig 4.1 Adjusted probability on the tree</figcaption>\n",
    "</figure>    \n",
    "\n",
    "</center>"
   ]
  },
  {
   "cell_type": "markdown",
   "metadata": {
    "slideshow": {
     "slide_type": "subslide"
    }
   },
   "source": [
    "The equation becomes\n",
    "\n",
    "$$\\begin{align}\n",
    "P\\left(D\\right) &=p_{w}p_{ww}+p_{w}\\left(1-p_{ww}\\right)P\\left(D\\right)+\\left(1-p_{w}\\right)p_{lw}P\\left(D\\right)\n",
    "\\end{align}\n",
    "$$"
   ]
  },
  {
   "cell_type": "markdown",
   "metadata": {
    "id": "cCtWYOkF06dH",
    "slideshow": {
     "slide_type": "subslide"
    }
   },
   "source": [
    "### 4.1 Combining into a function"
   ]
  },
  {
   "cell_type": "code",
   "execution_count": null,
   "metadata": {
    "colab": {
     "base_uri": "https://localhost:8080/"
    },
    "id": "nHsMdSWp1Dkp",
    "outputId": "f18efc06-7493-47f6-e8b7-49c6f977127b",
    "slideshow": {
     "slide_type": "fragment"
    }
   },
   "outputs": [],
   "source": [
    "def approximate_winning_probability(no_of_games):\n",
    "  from itertools import starmap  # Import starmap to apply a function to arguments unpacked from a list of tuples.\n",
    "\n",
    "  win_count = 0  # Initialize a counter to track the number of games Djokovic wins.\n",
    "\n",
    "  def djokovic_wins_the_game(p_w, p_ww, p_lw):\n",
    "    def djokovic_wins_a_point(p):\n",
    "      import random  \n",
    "      if random.random() < p:\n",
    "        return True  \n",
    "      else:\n",
    "        return False  \n",
    "\n",
    "    # Check if Djokovic wins the first point with probability p_w.\n",
    "    if djokovic_wins_a_point(p_w):\n",
    "      # If the first point is won, check if he wins the second point with probability p_ww.\n",
    "      if djokovic_wins_a_point(p_ww):\n",
    "        return True  # Return True, Djokovic wins the game after winning two consecutive points.\n",
    "      else:\n",
    "        # If the second point is lost, recursively determine the game outcome starting as if the first point was won.\n",
    "        return djokovic_wins_the_game(p_w, p_ww, p_lw)\n"
   ]
  },
  {
   "cell_type": "code",
   "execution_count": null,
   "metadata": {
    "slideshow": {
     "slide_type": "subslide"
    }
   },
   "outputs": [],
   "source": [
    "    else:\n",
    "      # If the first point is lost, check if he wins the next point with probability p_lw.\n",
    "      if djokovic_wins_a_point(p_lw):\n",
    "        # If the next point is won after losing the first, recursively determine the game outcome starting as if the first point was lost.\n",
    "        return djokovic_wins_the_game(p_w, p_ww, p_lw)\n",
    "      else:\n",
    "        return False  # Return False, Djokovic loses the game after losing two consecutive points.\n",
    "\n",
    "  # Define probabilities of winning a point after winning the previous point (p_ww) and losing the previous point (p_lw).\n",
    "  p_w  =  0.554\n",
    "  p_ww =  0.554 + 0.1  # Increase the probability by 0.1 if the previous point was won.\n",
    "  p_lw =  0.554 - 0.1  # Decrease the probability by 0.1 if the previous point was lost.\n",
    "\n",
    "  param = [(p_w, p_ww, p_lw)]  # Create a list of parameter tuples for starmap.\n",
    "\n",
    "  # Loop through the specified number of games.\n",
    "  for _ in range(no_of_games):\n",
    "    # Use starmap to apply djokovic_wins_the_game to each tuple in param.\n",
    "    # Check the game result and increment the win counter if True.\n",
    "    if list(starmap(djokovic_wins_the_game, param))[0]:\n",
    "      win_count += 1\n",
    "\n",
    "  return win_count/no_of_games  # Return the proportion of games won by Djokovic.\n",
    "\n",
    "# Call the function to simulate 10,000 games.\n",
    "approximate_winning_probability(10000)"
   ]
  },
  {
   "cell_type": "code",
   "execution_count": null,
   "metadata": {},
   "outputs": [],
   "source": [
    "0.602"
   ]
  },
  {
   "cell_type": "markdown",
   "metadata": {
    "id": "WMVmmzc0RitO",
    "slideshow": {
     "slide_type": "subslide"
    }
   },
   "source": [
    "## 4.2 Now with more params!\n",
    "- Better, but does the probabilities in the parameter need to be predetermined?\n",
    "- Can we quantify some player attributes and make them relevant in the computation?\n",
    "  - For example, both Djokovic and Sinner has some attributes like strength, agility and stamina which could determine how the probability is computed\n",
    "  - We could also have another attribute luck to further influence the outcome"
   ]
  },
  {
   "cell_type": "markdown",
   "metadata": {
    "id": "E67bYAUGaCrR",
    "slideshow": {
     "slide_type": "subslide"
    }
   },
   "source": [
    "### 4.3 Submodel for Winning Probability\n",
    "Let $x_i$, $y_i$, $z_i$ be the strength, agility and stamina values of Player $i$. We define the *player score* $S_i$ of Player $i$ to be simply the sum of the values, i.e. $$S(x_i,y_i,z_i)= x_i+y_i+z_i.$$\n",
    "\n",
    "Together with the logistic function, we can define the probability of player $i$ defeating player $j$ as $$P(\\text{Player i} > \\text{Player j}) = \\frac{1}{1+e^{S_j-S_i}}$$\n",
    "\n"
   ]
  },
  {
   "cell_type": "markdown",
   "metadata": {
    "id": "kPKN92qEXzHf",
    "slideshow": {
     "slide_type": "subslide"
    }
   },
   "source": [
    "### 4.4 OK. ChatGPT. Help me out.\n",
    "\n",
    "- Novak Djokovic\n",
    "  - Strength (STR): Djokovic isn't known primarily for his sheer power; instead, he is known for his incredible ability to return and sustain rallies. However, his service and groundstrokes are very effective. We might rate him as: STR: 85/100\n",
    "  - Agility (AGI): One of Djokovic's defining traits is his exceptional agility. His ability to reach and return shots that most players would miss is unparalleled. AGI: 95/100\n",
    "  - Stamina (STAM): Djokovic is famous for his endurance and his capability to play intensely long matches without a significant drop in performance. His stamina is likely one of the highest on the tour. STAM: 98/100\n",
    "\n"
   ]
  },
  {
   "cell_type": "markdown",
   "metadata": {
    "slideshow": {
     "slide_type": "subslide"
    }
   },
   "source": [
    "- Jannik Sinner\n",
    "  - Strength (STR): Sinner is known for his powerful groundstrokes, especially his forehand. He can generate significant speed on his shots, which would translate to a high strength rating. STR: 90/100\n",
    "  - Agility (AGI): While agile, Sinner is not quite at Djokovic’s level but still moves exceptionally well across the court. His agility allows him to maintain a strong offensive and defensive game. AGI: 88/100\n",
    "  - Stamina (STAM): Sinner is young and fit, capable of enduring long matches, but his experience and ability to manage energy in prolonged contests are still developing compared to Djokovic. STAM: 85/100"
   ]
  },
  {
   "cell_type": "code",
   "execution_count": null,
   "metadata": {
    "colab": {
     "base_uri": "https://localhost:8080/"
    },
    "id": "iA2FJMq0mYZe",
    "outputId": "dfdc035d-d5a0-45b0-8d18-85b5294527c1",
    "slideshow": {
     "slide_type": "subslide"
    }
   },
   "outputs": [],
   "source": [
    "class Player:\n",
    "  def __init__(self, str, agi, stam):\n",
    "    self.str = str  # Player's strength attribute\n",
    "    self.agi = agi  # Player's agility attribute\n",
    "    self.stam = stam  # Player's stamina attribute\n",
    "\n",
    "  def get_player_score(self):\n",
    "    # Calculate the total score by summing strength, agility, and stamina\n",
    "    return self.str + self.agi + self.stam\n",
    "\n",
    "  def win_probability_against(self, Player):\n",
    "    import math  # Import math module for the exponential function\n",
    "    # Calculate win probability using the logistic function\n",
    "    return 1 / (1 + math.exp(Player.get_player_score() - self.get_player_score()))\n",
    "\n",
    "def approximate_winning_probability(no_of_games):\n",
    "  from itertools import starmap  # Import starmap for applying a function over a list of tuples\n",
    "\n",
    "  win_count = 0  # Counter for the number of wins\n",
    "\n",
    "  def djokovic_wins_the_game(p_w, p_ww, p_lw):\n",
    "   \n",
    "    def djokovic_wins_a_point(p):\n",
    "      import random  \n",
    "      if random.random() < p:\n",
    "        return True  \n",
    "      else:\n",
    "        return False  \n"
   ]
  },
  {
   "cell_type": "code",
   "execution_count": null,
   "metadata": {
    "slideshow": {
     "slide_type": "subslide"
    }
   },
   "outputs": [],
   "source": [
    "    # Simulate game logic with different probabilities based on game situation\n",
    "    if djokovic_wins_a_point(p_w):\n",
    "      if djokovic_wins_a_point(p_ww):\n",
    "        return True  # Wins the game after winning two consecutive points\n",
    "      else:\n",
    "        return djokovic_wins_the_game(p_w, p_ww, p_lw)\n",
    "    else:\n",
    "      if djokovic_wins_a_point(p_lw):\n",
    "        return djokovic_wins_the_game(p_w, p_ww, p_lw)\n",
    "      else:\n",
    "        return False  # Loses the game after losing two consecutive points\n",
    "\n",
    "  # Create player instances with different stats\n",
    "  djokovic = Player(85,95,98)\n",
    "  sinner = Player(90,88,85)\n",
    "  p_w = djokovic.win_probability_against(sinner)  # Probability of winning after a neutral situation\n",
    "\n",
    "  djokovic = Player(85,95,95)\n",
    "  sinner = Player(90,88,80)\n",
    "  p_ww = djokovic.win_probability_against(sinner)  # Probability of winning after winning a point\n",
    "\n",
    "  djokovic = Player(85,95,85)\n",
    "  sinner = Player(90,88,70)\n",
    "  p_lw = djokovic.win_probability_against(sinner)  # Probability of winning after losing a point\n"
   ]
  },
  {
   "cell_type": "code",
   "execution_count": null,
   "metadata": {
    "slideshow": {
     "slide_type": "subslide"
    }
   },
   "outputs": [],
   "source": [
    "  param = [(p_w, p_ww, p_lw)]\n",
    "\n",
    "  # Simulate the specified number of games\n",
    "  for _ in range(no_of_games):\n",
    "    if list(starmap(djokovic_wins_the_game, param))[0]:\n",
    "      win_count += 1\n",
    "\n",
    "  return win_count/no_of_games  # Return the proportion of wins\n",
    "\n",
    "approximate_winning_probability(10000)  # Call the function to simulate 10,000 games"
   ]
  },
  {
   "cell_type": "code",
   "execution_count": null,
   "metadata": {},
   "outputs": [],
   "source": [
    "1.0"
   ]
  },
  {
   "cell_type": "markdown",
   "metadata": {
    "id": "iV3RvLlludJY",
    "slideshow": {
     "slide_type": "subslide"
    }
   },
   "source": [
    "## 4.3 Djokovic the GOAT\n",
    "\n",
    "- what went wrong?\n",
    "  - probability given logistic function is near 1 for Djokovic winning a point\n",
    "  \n",
    "<center>\n",
    "\n",
    "<figure>\n",
    "  <img src=\"./img/king_djokovic.png\" height=\"350\" align=\"center\">\n",
    "  <figcaption>Fig 4.2 Djokovic with his Rolex crown</figcaption>\n",
    "</figure>    \n",
    "\n",
    "</center>\n"
   ]
  },
  {
   "cell_type": "code",
   "execution_count": 5,
   "metadata": {
    "colab": {
     "base_uri": "https://localhost:8080/"
    },
    "id": "5dUzIQ4CYTha",
    "outputId": "a0cb2cfb-57ca-41b4-be50-ac8e72d1c018",
    "slideshow": {
     "slide_type": "subslide"
    }
   },
   "outputs": [
    {
     "name": "stdout",
     "output_type": "stream",
     "text": [
      "0.999999694097773\n",
      "3.059022269256247e-07\n"
     ]
    }
   ],
   "source": [
    "class Player:\n",
    "  def __init__(self, str, agi, stam):\n",
    "    self.str = str\n",
    "    self.agi = agi\n",
    "    self.stam = stam\n",
    "\n",
    "  def get_player_score(self):\n",
    "    return self.str + self.agi + self.stam\n",
    "\n",
    "  def win_probability_against(self, Player):\n",
    "    import math\n",
    "\n",
    "    return 1/(1 + math.exp(Player.get_player_score() - self.get_player_score()))\n",
    "\n",
    "djokovic = Player(85,95,98)\n",
    "\n",
    "sinner = Player(90,88,85)\n",
    "\n",
    "print(djokovic.win_probability_against(sinner))\n",
    "\n",
    "print(sinner.win_probability_against(djokovic))"
   ]
  },
  {
   "cell_type": "markdown",
   "metadata": {
    "id": "6gKYaQ5NStTX",
    "slideshow": {
     "slide_type": "subslide"
    }
   },
   "source": [
    "## 4.4 Too Deep Into the Rabbit Hole\n",
    "1. What we could do to improve the model:\n",
    "  - Adjust the player score function to maybe $$S(x_i,y_i,z_i)= w_1x_i+w_2y_i+w_3z_i.$$ I.e., we can add weights to each stats\n",
    "  - use a more generalized logistic function $$P(\\text{Player i} > \\text{Player j}) = \\frac{1}{1+e^{a+b(S_j-S_i)}}$$\n",
    "  - adjust $w_1, w_2, w_3, a$ and $b$ such that it aligns better with real-world statistics\n",
    "  - player stats can have depreciation to mimic fatigue\n",
    "2. Repeat until we feel it's satisfactory."
   ]
  },
  {
   "cell_type": "markdown",
   "metadata": {
    "id": "Sh9-TvyYWIhD",
    "slideshow": {
     "slide_type": "slide"
    }
   },
   "source": [
    "# 5. Model Timeline\n",
    "1. Single Fair Coin toss to determine outcome of the game\n",
    "2. Multiple Fair Coin tosses to determine outcome of the game\n",
    "3. Using real-world statistics to use as probability of winning\n",
    "4. Using conditional probabilities in different scenario\n",
    "5. Modelling probability of winning with logistic function and OOP"
   ]
  },
  {
   "cell_type": "markdown",
   "metadata": {
    "id": "ZUE6JQr5Wxpk",
    "slideshow": {
     "slide_type": "slide"
    }
   },
   "source": [
    "# 6. Final Word: What Can Python Offer In the Context of Mathematical Modelling\n",
    "1. Relatively easy implementation of the mathematical ideas due to similar syntax\n",
    "2. Simulation Capabilities with or without OOP\n",
    "    - Section 4.1 without OOP\n",
    "    - Section 4.2 with OOP\n",
    "3. Computer Algebraic System to solve algebraic equations with `sympy` module\n",
    "    - Section 3.2\n",
    "4. Drawing Diagram and Plots\n",
    "    - Section 3.3"
   ]
  },
  {
   "cell_type": "markdown",
   "metadata": {
    "id": "9ad7HyWTyjnM",
    "slideshow": {
     "slide_type": "slide"
    }
   },
   "source": [
    "# 7. Further Explorations\n",
    "- predict the outcome of the game from `0-0`\n",
    "- predict the winner from a tournament of $n$ players"
   ]
  },
  {
   "cell_type": "markdown",
   "metadata": {
    "slideshow": {
     "slide_type": "slide"
    }
   },
   "source": [
    "## 8. The End\n",
    "\n",
    "<p align='center'> Thank you </p>"
   ]
  },
  {
   "cell_type": "markdown",
   "metadata": {
    "slideshow": {
     "slide_type": "slide"
    }
   },
   "source": [
    "# References\n",
    "1. Tennis Scoring System: https://en.wikipedia.org/wiki/Tennis_scoring_system Retrieved: 18/04/24\n",
    "2. ATP Ranking: https://www.atptour.com/en/rankings/singles Retrieved: 18/04/24\n",
    "3. Introduction to Modeling and Simulation with Matlab and Python. Steve I. Gordon and Brian Guifoos. Figure 1.2 Major steps in the modeling process. Page 11"
   ]
  }
 ],
 "metadata": {
  "celltoolbar": "Slideshow",
  "colab": {
   "provenance": []
  },
  "kernelspec": {
   "display_name": "Python 3 (ipykernel)",
   "language": "python",
   "name": "python3"
  },
  "language_info": {
   "codemirror_mode": {
    "name": "ipython",
    "version": 3
   },
   "file_extension": ".py",
   "mimetype": "text/x-python",
   "name": "python",
   "nbconvert_exporter": "python",
   "pygments_lexer": "ipython3",
   "version": "3.10.2"
  }
 },
 "nbformat": 4,
 "nbformat_minor": 1
}
